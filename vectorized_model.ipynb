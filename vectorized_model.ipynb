{
 "cells": [
  {
   "cell_type": "markdown",
   "metadata": {},
   "source": [
    "Vectorize"
   ]
  },
  {
   "cell_type": "code",
   "execution_count": 73,
   "metadata": {},
   "outputs": [],
   "source": [
    "from sklearn.feature_extraction.text import TfidfVectorizer\n",
    "import pandas as pd\n",
    "\n",
    "human_csv = pd.read_csv('r1_r2_annotations_liwc_h.csv')\n",
    "human_csv = human_csv[human_csv['majority_vote'] != 'NoMajority']\n",
    "text = human_csv['proc_text']\n",
    "\n",
    "\n",
    "max_features = 30\n",
    "vectorizer = TfidfVectorizer( max_features=max_features)\n",
    "X = vectorizer.fit_transform(text)"
   ]
  },
  {
   "cell_type": "code",
   "execution_count": 74,
   "metadata": {},
   "outputs": [
    {
     "name": "stdout",
     "output_type": "stream",
     "text": [
      "Accuracy: 0.6901408450704225\n"
     ]
    }
   ],
   "source": [
    "from sklearn.model_selection import train_test_split\n",
    "from sklearn.ensemble import RandomForestClassifier\n",
    "\n",
    "# Assuming you have labels for your data\n",
    "y = human_csv['majority_vote']\n",
    "\n",
    "# Split the data into training and testing sets\n",
    "X_train, X_test, y_train, y_test = train_test_split(X, y, test_size=0.2, random_state=42)\n",
    "\n",
    "# Train a RandomForestClassifier using the TF-IDF transformed features\n",
    "rf_classifier = RandomForestClassifier(random_state=42)\n",
    "rf_classifier.fit(X_train, y_train)\n",
    "\n",
    "# Evaluate the classifier\n",
    "accuracy = rf_classifier.score(X_test, y_test)\n",
    "print(\"Accuracy:\", accuracy)\n"
   ]
  },
  {
   "cell_type": "markdown",
   "metadata": {},
   "source": [
    "Dump vectorizer + model"
   ]
  },
  {
   "cell_type": "code",
   "execution_count": 75,
   "metadata": {},
   "outputs": [
    {
     "data": {
      "text/plain": [
       "['tfidf_vectorizer.joblib']"
      ]
     },
     "execution_count": 75,
     "metadata": {},
     "output_type": "execute_result"
    }
   ],
   "source": [
    "import joblib\n",
    "joblib.dump(rf_classifier, 'rf_classifier_model.joblib')\n",
    "joblib.dump(vectorizer, 'tfidf_vectorizer.joblib')\n"
   ]
  },
  {
   "cell_type": "markdown",
   "metadata": {},
   "source": [
    "Model"
   ]
  },
  {
   "cell_type": "code",
   "execution_count": 76,
   "metadata": {},
   "outputs": [],
   "source": [
    "import pandas as pd\n",
    "from sklearn.feature_extraction.text import TfidfVectorizer\n",
    "import joblib\n",
    "\n",
    "class ModelPredictor:\n",
    "    def __init__(self, model, vectorizer):\n",
    "        self.model = model\n",
    "        self.vectorizer = vectorizer\n",
    "    \n",
    "    def predict_from_excel(self, excel_file):\n",
    "        df = pd.read_excel(excel_file, header=0)\n",
    "        display(df.columns)\n",
    "        \n",
    "        predictions = []\n",
    "        \n",
    "        for index, row in df.iterrows():\n",
    "            text = row['text_for_predictions']  # Replace 'text_column' with the actual name of the column containing text data\n",
    "            \n",
    "            # Vectorize the text\n",
    "            X_test = self.vectorizer.transform([text])\n",
    "            \n",
    "            prediction = self.model.predict(X_test)\n",
    "            \n",
    "            predictions.append(prediction[0]) \n",
    "            \n",
    "        return predictions\n"
   ]
  },
  {
   "cell_type": "code",
   "execution_count": 77,
   "metadata": {},
   "outputs": [
    {
     "data": {
      "text/plain": [
       "Index(['text_for_predictions'], dtype='object')"
      ]
     },
     "metadata": {},
     "output_type": "display_data"
    },
    {
     "name": "stdout",
     "output_type": "stream",
     "text": [
      "['UN', 'UN', 'PO']\n"
     ]
    }
   ],
   "source": [
    "# Load the trained model and vectorizer\n",
    "rf_classifier = joblib.load('rf_classifier_model.joblib')\n",
    "vectorizer = joblib.load('tfidf_vectorizer.joblib')\n",
    "\n",
    "model_predictor = ModelPredictor(rf_classifier, vectorizer)\n",
    "\n",
    "excel_test = 'example_to_predict.xlsx'\n",
    "\n",
    "predictions = model_predictor.predict_from_excel(excel_test)\n",
    "\n",
    "print(predictions)"
   ]
  }
 ],
 "metadata": {
  "kernelspec": {
   "display_name": "Python 3",
   "language": "python",
   "name": "python3"
  },
  "language_info": {
   "codemirror_mode": {
    "name": "ipython",
    "version": 3
   },
   "file_extension": ".py",
   "mimetype": "text/x-python",
   "name": "python",
   "nbconvert_exporter": "python",
   "pygments_lexer": "ipython3",
   "version": "3.10.11"
  }
 },
 "nbformat": 4,
 "nbformat_minor": 2
}
